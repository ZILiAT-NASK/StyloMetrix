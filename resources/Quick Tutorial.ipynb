{
 "cells": [
  {
   "cell_type": "markdown",
   "id": "5dabd8d6",
   "metadata": {},
   "source": [
    "## StyloMetrix Quick Tutorial "
   ]
  },
  {
   "cell_type": "markdown",
   "id": "0225ff31",
   "metadata": {},
   "source": [
    "### Do imports"
   ]
  },
  {
   "cell_type": "code",
   "execution_count": null,
   "id": "f6e829f9",
   "metadata": {},
   "outputs": [],
   "source": [
    "import spacy\n",
    "import stylo_metrix\n",
    "from stylo_metrix.structures import CustomMetric, MetricsGroup\n",
    "from stylo_metrix.utils import ratio\n",
    "\n",
    "import warnings\n",
    "warnings.filterwarnings('ignore')"
   ]
  },
  {
   "cell_type": "markdown",
   "id": "728c4e32",
   "metadata": {},
   "source": [
    "### Initialize packages\n",
    "Load spaCy model and add StyloMetrix to pipe with the name `stylo_metrix`:"
   ]
  },
  {
   "cell_type": "code",
   "execution_count": null,
   "id": "ac311c3f",
   "metadata": {},
   "outputs": [],
   "source": [
    "nlp = spacy.load(\"pl_nask\")\n",
    "nlp.add_pipe(\"stylo_metrix\")"
   ]
  },
  {
   "cell_type": "markdown",
   "id": "1944cc18",
   "metadata": {},
   "source": [
    "### Use nlp on text\n",
    "It will **automatically calculate the vector** and store it as `doc._.stylo_metrix_vector` attribute."
   ]
  },
  {
   "cell_type": "code",
   "execution_count": null,
   "id": "dac28dc5",
   "metadata": {
    "scrolled": true
   },
   "outputs": [],
   "source": [
    "txt = \"Utwierdziła się w przekonaniu, że słusznie zrobiła, podejmując decyzję o odpuszczeniu\\\n",
    "       turnieju w Madrycie. Finału nie traktowała, jakby to był jakiś specjalny mecz. – Bardzo\\\n",
    "       się cieszę z tego jak podchodzę do finałów, że traktuję te mecze, jak każde inne. Nie\\\n",
    "       dałabym rady bez mojego sztabu, bardzo pomaga mi Daria w utrzymaniu nastawienia. Cieszę\\\n",
    "       się więc, że są ze mną i że każdy mecz gramy wspólnie na sto procent – zakończyła Świątek,\\\n",
    "       która już myśli o stracie na turnieju Roland Garros.\"\n",
    "doc = nlp(txt)\n",
    "doc._.stylo_metrix_vector"
   ]
  },
  {
   "cell_type": "markdown",
   "id": "1c6f94c3",
   "metadata": {},
   "source": [
    "An alias for `doc._.stylo_metrix_vector` is `doc._.smv` for convenience. Let's print first 3 values:"
   ]
  },
  {
   "cell_type": "code",
   "execution_count": null,
   "id": "20829e09",
   "metadata": {},
   "outputs": [],
   "source": [
    "for metric in doc._.smv[:3]:\n",
    "    print(metric)"
   ]
  },
  {
   "cell_type": "markdown",
   "id": "107e3543",
   "metadata": {},
   "source": [
    "### Create custom metrics\n",
    "All you need is a **function that returns metric's value** decorated with `@CustomMetric()`:"
   ]
  },
  {
   "cell_type": "code",
   "execution_count": null,
   "id": "281de1d9",
   "metadata": {},
   "outputs": [],
   "source": [
    "@CustomMetric(\"Liczba niepustych tokenów\")\n",
    "def METRIC(doc):\n",
    "    result = doc._.n_tokens\n",
    "    return result"
   ]
  },
  {
   "cell_type": "markdown",
   "id": "6839afb2",
   "metadata": {},
   "source": [
    "You can use all **spaCy features** as well as our **built-in extensions and functions** inside code.\n",
    "\n",
    "`token._.pos` is a built-in extension that stores data of general parts of speech. It equals `v` for verbs.\n",
    "\n",
    "`doc._.n_tokens` is a built-in extension that stores number of non-empty tokens. \n",
    "\n",
    "`ratio(value1, value2)` is a built-in function to calculate ratio of two numbers or return 0 if `value2` is 0.\n",
    "\n",
    "You can optionally add useful **debug information** in return statement. It will be stored along with vector data."
   ]
  },
  {
   "cell_type": "code",
   "execution_count": null,
   "id": "e43cc660",
   "metadata": {},
   "outputs": [],
   "source": [
    "@CustomMetric(\"Występowanie czasowników w 3 os. l. poj.\")\n",
    "def VERBS_3S(doc):\n",
    "    verbs = [token for token in doc\n",
    "            if token._.pos == \"v\" and token._.verb_person == \"s3\"]\n",
    "    result = ratio(len(verbs), doc._.n_tokens)\n",
    "    debug = {\"verbs\": verbs, \"n_tokens\": doc._.n_tokens}\n",
    "    return result, debug\n",
    "\n",
    "VERBS_3S(nlp(\"Utwierdziła się w przekonaniu, że słusznie zrobiła, podejmując decyzję o odpuszczeniu turnieju w Madrycie.\"))"
   ]
  },
  {
   "cell_type": "markdown",
   "id": "5facf7b1",
   "metadata": {},
   "source": [
    "Let's try a quick **test** on this metric. Each line contains a sentence and an expected (manually calculated) value:"
   ]
  },
  {
   "cell_type": "code",
   "execution_count": null,
   "id": "d60ca37c",
   "metadata": {},
   "outputs": [],
   "source": [
    "tests = (\n",
    "    (\"3/10\", \"Dział i wydział znał, słyszał i cieszy się.\"),\n",
    "    (\"4/9\", \"Klaszcze, piszczy, śpiewa i jeździ TIR-em.\"),\n",
    "    (\"3/6\", \"Przybyła, zobaczyła, zwycięży.\"),\n",
    "    (\"2/9\", \"Będzie się starał napisać dużo i niemało przeczytać.\"),\n",
    "    (\"2/7\", \"Zrobił śniadanie i posprząta stary radykał.\"),\n",
    ")\n",
    "\n",
    "print(f\"expected received difference sentence\")\n",
    "for exp, sent in tests:\n",
    "    expected = eval(exp)\n",
    "    received = VERBS_3S(nlp(sent))[\"value\"]\n",
    "    difference = abs(expected - received)\n",
    "    print(f\"{expected:<8.2} {received:<8.2} {difference:<10.2} {sent}\")"
   ]
  },
  {
   "cell_type": "markdown",
   "id": "e257ddcc",
   "metadata": {},
   "source": [
    "### Create groups\n",
    "Put custom metrics in groups to manage them. You can perform **list-like operations** on groups."
   ]
  },
  {
   "cell_type": "code",
   "execution_count": null,
   "id": "2c0d6c1f",
   "metadata": {},
   "outputs": [],
   "source": [
    "group = MetricsGroup(METRIC, VERBS_3S)\n",
    "group"
   ]
  },
  {
   "cell_type": "markdown",
   "id": "706fc60b",
   "metadata": {},
   "source": [
    "You can also import **built-in groups of metrics**."
   ]
  },
  {
   "cell_type": "code",
   "execution_count": null,
   "id": "1f3514d1",
   "metadata": {},
   "outputs": [],
   "source": [
    "from stylo_metrix.metrics.pl import verbs_tenses_group, verbs_aspects_group\n",
    "large_group = group + verbs_tenses_group + verbs_aspects_group\n",
    "large_group"
   ]
  },
  {
   "cell_type": "markdown",
   "id": "d1b27ac2",
   "metadata": {},
   "source": [
    "Assign new group as `nlp.metrics_group` attribute and recalculate the doc information to obtain new vector with **updated values**."
   ]
  },
  {
   "cell_type": "code",
   "execution_count": null,
   "id": "830ee7b4",
   "metadata": {},
   "outputs": [],
   "source": [
    "nlp.metrics_group = large_group\n",
    "doc = nlp(txt)\n",
    "doc._.stylo_metrix_vector"
   ]
  },
  {
   "cell_type": "markdown",
   "id": "1829d363",
   "metadata": {},
   "source": [
    "Let's print first three metrics for the new group:"
   ]
  },
  {
   "cell_type": "code",
   "execution_count": null,
   "id": "0fb154d1",
   "metadata": {},
   "outputs": [],
   "source": [
    "for v in doc._.smv[:3]:\n",
    "    print(v)"
   ]
  },
  {
   "cell_type": "code",
   "execution_count": null,
   "id": "1afb8e29",
   "metadata": {},
   "outputs": [],
   "source": []
  },
  {
   "cell_type": "markdown",
   "id": "5dd62755",
   "metadata": {},
   "source": [
    "*source of input texts: https://www.onet.pl/sport/onetsport/iga-swiatek-ons-jabeur-iga-swiatek-zalala-sie-lzami-opowiedziala-o-tym/xkn97dq,d87b6cc4*"
   ]
  }
 ],
 "metadata": {
  "kernelspec": {
   "display_name": "spacy32",
   "language": "python",
   "name": "spacy32"
  },
  "language_info": {
   "codemirror_mode": {
    "name": "ipython",
    "version": 3
   },
   "file_extension": ".py",
   "mimetype": "text/x-python",
   "name": "python",
   "nbconvert_exporter": "python",
   "pygments_lexer": "ipython3",
   "version": "3.9.7"
  }
 },
 "nbformat": 4,
 "nbformat_minor": 5
}
